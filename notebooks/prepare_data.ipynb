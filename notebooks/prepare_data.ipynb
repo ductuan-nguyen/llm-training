{
 "cells": [
  {
   "cell_type": "code",
   "execution_count": 1,
   "metadata": {},
   "outputs": [],
   "source": [
    "# import json \n",
    "# with open('train_ViQuAD.json', 'r') as f:\n",
    "#     data = json.load(f)\n",
    "\n",
    "# data = data['data']"
   ]
  },
  {
   "cell_type": "code",
   "execution_count": 2,
   "metadata": {},
   "outputs": [],
   "source": [
    "# new_data = []\n",
    "# for topic in data:\n",
    "#     for paragraph in topic['paragraphs']:\n",
    "#         for qa in paragraph['qas']:\n",
    "#             new_data.append({'question': qa['question'], \n",
    "#                              'context': paragraph['context'],\n",
    "#                              'answer': qa['answers'][0]['text']})\n",
    "# new_data"
   ]
  },
  {
   "cell_type": "code",
   "execution_count": 3,
   "metadata": {},
   "outputs": [],
   "source": [
    "import pandas as pd \n",
    "# df = pd.DataFrame(new_data)\n",
    "# df.to_csv('/home4/tuannd/llm-training/Data_Vi_QA_v1.1/Extractive/viquad.csv', index=False)"
   ]
  },
  {
   "cell_type": "code",
   "execution_count": 4,
   "metadata": {},
   "outputs": [],
   "source": [
    "# folder = '/home4/anhttt/Chatbot Data/Vi-QA-no-ans' \n",
    "# import os\n",
    "# df_list = []\n",
    "# for file in os.listdir(folder):\n",
    "#     if file.endswith('.csv') and 'Pubmed_gen_no_ans10000.csv' not in file:\n",
    "#         df = pd.read_csv(os.path.join(folder, file))\n",
    "#         df_list.append(df)\n",
    "\n",
    "# df = pd.concat(df_list)\n",
    "# df.to_csv('/home4/tuannd/llm-training/Data_Vi_QA_v1.1/no answer/viQA_no_ans.csv', index=False)"
   ]
  },
  {
   "cell_type": "code",
   "execution_count": 5,
   "metadata": {},
   "outputs": [],
   "source": [
    "# df = pd.read_csv('/home4/tuannd/llm-training/Data_Vi_QA_v1.1/QA_Uni/Chitchat_HUST_train.csv')\n",
    "# df['context'] = [None] * len(df)\n",
    "\n",
    "# df[['question', 'context', 'answer']].to_csv('/home4/tuannd/llm-training/Data_Vi_QA_v1.1/QA_Uni/Chitchat_HUST_train.csv', index=False)"
   ]
  },
  {
   "cell_type": "code",
   "execution_count": 6,
   "metadata": {},
   "outputs": [],
   "source": [
    "# df = pd.read_csv('/home4/tuannd/llm-training/Data_Vi_QA_v1.1/Conversation_1_turn/llmsys_translated_1_turn_filter.csv')\n",
    "# df.rename(columns={'input': 'context', 'instruction': 'question', 'output': 'answer'}, inplace=True)\n",
    "# df.to_csv('/home4/tuannd/llm-training/Data_Vi_QA_v1.1/Conversation_1_turn/llmsys_translated_1_turn_filter.csv', index=False)"
   ]
  },
  {
   "cell_type": "code",
   "execution_count": 7,
   "metadata": {},
   "outputs": [
    {
     "name": "stdout",
     "output_type": "stream",
     "text": [
      "QA_Uni\n",
      "Chitchat_HUST_train.csv\n",
      "Uni-QA(08_12_2023).csv\n",
      "data_statistic.ipynb\n",
      "Instruction\n",
      "Open_orca_viet_filter.csv\n"
     ]
    },
    {
     "name": "stdout",
     "output_type": "stream",
     "text": [
      "Extractive\n",
      "viquad.csv\n",
      "Conversation_1_turn\n",
      "llmsys_translated_1_turn_filter.csv\n",
      "huggingface_ultrachat_1_turn_filter.csv\n",
      "Abstractive\n",
      "Pubmed_filter.csv\n",
      "MSMarco_filter.csv\n",
      "NarrativeQA_filter.csv\n",
      "all_data.csv\n",
      "no answer\n",
      "viQA_no_ans.csv\n"
     ]
    }
   ],
   "source": [
    "import os \n",
    "import pandas as pd\n",
    "csv_folder = '/home4/tuannd/llm-training/Data_Vi_QA_v1.1'\n",
    "df_list = []\n",
    "for folder in os.listdir(csv_folder):\n",
    "    print(folder)\n",
    "    if not os.path.isdir(os.path.join(csv_folder, folder)):\n",
    "        continue\n",
    "    for csv in os.listdir(os.path.join(csv_folder, folder)):\n",
    "        if not csv.endswith('.csv'):\n",
    "            continue\n",
    "        print(csv)\n",
    "        df = pd.read_csv(os.path.join(csv_folder, folder, csv))\n",
    "        df['type'] = [folder] * len(df)\n",
    "        df_list.append(df)"
   ]
  },
  {
   "cell_type": "code",
   "execution_count": 8,
   "metadata": {},
   "outputs": [
    {
     "data": {
      "text/plain": [
       "362510"
      ]
     },
     "execution_count": 8,
     "metadata": {},
     "output_type": "execute_result"
    }
   ],
   "source": [
    "all_data = pd.concat(df_list)\n",
    "len(all_data)"
   ]
  },
  {
   "cell_type": "code",
   "execution_count": 9,
   "metadata": {},
   "outputs": [
    {
     "data": {
      "text/plain": [
       "type\n",
       "Abstractive            131985\n",
       "Conversation_1_turn    110781\n",
       "Instruction             68619\n",
       "no answer               20053\n",
       "Extractive              18579\n",
       "QA_Uni                  12493\n",
       "Name: count, dtype: int64"
      ]
     },
     "execution_count": 9,
     "metadata": {},
     "output_type": "execute_result"
    }
   ],
   "source": [
    "all_data['type'].value_counts()"
   ]
  },
  {
   "cell_type": "code",
   "execution_count": 10,
   "metadata": {},
   "outputs": [
    {
     "data": {
      "text/html": [
       "<div>\n",
       "<style scoped>\n",
       "    .dataframe tbody tr th:only-of-type {\n",
       "        vertical-align: middle;\n",
       "    }\n",
       "\n",
       "    .dataframe tbody tr th {\n",
       "        vertical-align: top;\n",
       "    }\n",
       "\n",
       "    .dataframe thead th {\n",
       "        text-align: right;\n",
       "    }\n",
       "</style>\n",
       "<table border=\"1\" class=\"dataframe\">\n",
       "  <thead>\n",
       "    <tr style=\"text-align: right;\">\n",
       "      <th></th>\n",
       "      <th>question</th>\n",
       "      <th>context</th>\n",
       "      <th>answer</th>\n",
       "      <th>type</th>\n",
       "    </tr>\n",
       "  </thead>\n",
       "  <tbody>\n",
       "    <tr>\n",
       "      <th>0</th>\n",
       "      <td>Những người nào xây dựng nên chatbot này?</td>\n",
       "      <td>NaN</td>\n",
       "      <td>Tôi được xây dựng bởi đội ngũ Vbee và sự đóng ...</td>\n",
       "      <td>QA_Uni</td>\n",
       "    </tr>\n",
       "    <tr>\n",
       "      <th>1</th>\n",
       "      <td>Bạn được phát triển bởi ai thế?</td>\n",
       "      <td>NaN</td>\n",
       "      <td>Tôi là sản phẩm của sự hợp tác giữa công ty Vb...</td>\n",
       "      <td>QA_Uni</td>\n",
       "    </tr>\n",
       "    <tr>\n",
       "      <th>2</th>\n",
       "      <td>Ai là người tạo ra bạn?</td>\n",
       "      <td>NaN</td>\n",
       "      <td>Cảm ơn vì câu hỏi! Tôi ra đời nhờ sự hợp tác g...</td>\n",
       "      <td>QA_Uni</td>\n",
       "    </tr>\n",
       "    <tr>\n",
       "      <th>3</th>\n",
       "      <td>Bạn được xây dựng bởi hust à?</td>\n",
       "      <td>NaN</td>\n",
       "      <td>Đúng vậy, tôi là kết quả của sự hợp tác giữa c...</td>\n",
       "      <td>QA_Uni</td>\n",
       "    </tr>\n",
       "    <tr>\n",
       "      <th>4</th>\n",
       "      <td>Ai đẻ ra bạn?</td>\n",
       "      <td>NaN</td>\n",
       "      <td>Haha, câu hỏi thú vị! Tôi không có \"đẻ\" như co...</td>\n",
       "      <td>QA_Uni</td>\n",
       "    </tr>\n",
       "    <tr>\n",
       "      <th>...</th>\n",
       "      <td>...</td>\n",
       "      <td>...</td>\n",
       "      <td>...</td>\n",
       "      <td>...</td>\n",
       "    </tr>\n",
       "    <tr>\n",
       "      <th>20048</th>\n",
       "      <td>Sự tăng nhu động ruột ở mô hình chuột mắc hội ...</td>\n",
       "      <td>Thúc đẩy sự hình thành xương ở bề mặt mô là mộ...</td>\n",
       "      <td>Rất tiếc, dữ liệu mà tôi được huấn luyện không...</td>\n",
       "      <td>no answer</td>\n",
       "    </tr>\n",
       "    <tr>\n",
       "      <th>20049</th>\n",
       "      <td>Phẫu thuật tăng nhãn áp có làm giảm tỷ lệ tiến...</td>\n",
       "      <td>Để nghiên cứu tính hiệu quả của thấu kính nội ...</td>\n",
       "      <td>Rất tiếc, dữ liệu mà tôi được huấn luyện không...</td>\n",
       "      <td>no answer</td>\n",
       "    </tr>\n",
       "    <tr>\n",
       "      <th>20050</th>\n",
       "      <td>Liều duy trì cao của clopidogrel có liên quan ...</td>\n",
       "      <td>Huyết khối trong stent xảy ra thường xuyên tro...</td>\n",
       "      <td>Rất tiếc, dữ liệu mà tôi được huấn luyện không...</td>\n",
       "      <td>no answer</td>\n",
       "    </tr>\n",
       "    <tr>\n",
       "      <th>20051</th>\n",
       "      <td>Tính toàn vẹn về cấu trúc của các sợi vận động...</td>\n",
       "      <td>Rất khó xác định tiên lượng về kết quả vận độn...</td>\n",
       "      <td>Rất tiếc, dữ liệu mà tôi được huấn luyện không...</td>\n",
       "      <td>no answer</td>\n",
       "    </tr>\n",
       "    <tr>\n",
       "      <th>20052</th>\n",
       "      <td>Sự thiếu hụt folate nhẹ có gây ra sự mất ổn đị...</td>\n",
       "      <td>Việc cung cấp folate bị hạn chế có liên quan đ...</td>\n",
       "      <td>Rất tiếc, dữ liệu mà tôi được huấn luyện không...</td>\n",
       "      <td>no answer</td>\n",
       "    </tr>\n",
       "  </tbody>\n",
       "</table>\n",
       "<p>362510 rows × 4 columns</p>\n",
       "</div>"
      ],
      "text/plain": [
       "                                                question  \\\n",
       "0              Những người nào xây dựng nên chatbot này?   \n",
       "1                        Bạn được phát triển bởi ai thế?   \n",
       "2                                Ai là người tạo ra bạn?   \n",
       "3                          Bạn được xây dựng bởi hust à?   \n",
       "4                                          Ai đẻ ra bạn?   \n",
       "...                                                  ...   \n",
       "20048  Sự tăng nhu động ruột ở mô hình chuột mắc hội ...   \n",
       "20049  Phẫu thuật tăng nhãn áp có làm giảm tỷ lệ tiến...   \n",
       "20050  Liều duy trì cao của clopidogrel có liên quan ...   \n",
       "20051  Tính toàn vẹn về cấu trúc của các sợi vận động...   \n",
       "20052  Sự thiếu hụt folate nhẹ có gây ra sự mất ổn đị...   \n",
       "\n",
       "                                                 context  \\\n",
       "0                                                    NaN   \n",
       "1                                                    NaN   \n",
       "2                                                    NaN   \n",
       "3                                                    NaN   \n",
       "4                                                    NaN   \n",
       "...                                                  ...   \n",
       "20048  Thúc đẩy sự hình thành xương ở bề mặt mô là mộ...   \n",
       "20049  Để nghiên cứu tính hiệu quả của thấu kính nội ...   \n",
       "20050  Huyết khối trong stent xảy ra thường xuyên tro...   \n",
       "20051  Rất khó xác định tiên lượng về kết quả vận độn...   \n",
       "20052  Việc cung cấp folate bị hạn chế có liên quan đ...   \n",
       "\n",
       "                                                  answer       type  \n",
       "0      Tôi được xây dựng bởi đội ngũ Vbee và sự đóng ...     QA_Uni  \n",
       "1      Tôi là sản phẩm của sự hợp tác giữa công ty Vb...     QA_Uni  \n",
       "2      Cảm ơn vì câu hỏi! Tôi ra đời nhờ sự hợp tác g...     QA_Uni  \n",
       "3      Đúng vậy, tôi là kết quả của sự hợp tác giữa c...     QA_Uni  \n",
       "4      Haha, câu hỏi thú vị! Tôi không có \"đẻ\" như co...     QA_Uni  \n",
       "...                                                  ...        ...  \n",
       "20048  Rất tiếc, dữ liệu mà tôi được huấn luyện không...  no answer  \n",
       "20049  Rất tiếc, dữ liệu mà tôi được huấn luyện không...  no answer  \n",
       "20050  Rất tiếc, dữ liệu mà tôi được huấn luyện không...  no answer  \n",
       "20051  Rất tiếc, dữ liệu mà tôi được huấn luyện không...  no answer  \n",
       "20052  Rất tiếc, dữ liệu mà tôi được huấn luyện không...  no answer  \n",
       "\n",
       "[362510 rows x 4 columns]"
      ]
     },
     "execution_count": 10,
     "metadata": {},
     "output_type": "execute_result"
    }
   ],
   "source": [
    "all_data"
   ]
  },
  {
   "cell_type": "code",
   "execution_count": 11,
   "metadata": {},
   "outputs": [
    {
     "data": {
      "text/html": [
       "<div>\n",
       "<style scoped>\n",
       "    .dataframe tbody tr th:only-of-type {\n",
       "        vertical-align: middle;\n",
       "    }\n",
       "\n",
       "    .dataframe tbody tr th {\n",
       "        vertical-align: top;\n",
       "    }\n",
       "\n",
       "    .dataframe thead th {\n",
       "        text-align: right;\n",
       "    }\n",
       "</style>\n",
       "<table border=\"1\" class=\"dataframe\">\n",
       "  <thead>\n",
       "    <tr style=\"text-align: right;\">\n",
       "      <th></th>\n",
       "      <th>question</th>\n",
       "      <th>context</th>\n",
       "      <th>answer</th>\n",
       "      <th>type</th>\n",
       "    </tr>\n",
       "  </thead>\n",
       "  <tbody>\n",
       "    <tr>\n",
       "      <th>0</th>\n",
       "      <td>Câu hỏi: Xếp hạng ★ của bài đánh giá này (★ là...</td>\n",
       "      <td>Bạn là một trợ lý AI. Người dùng sẽ cung cấp c...</td>\n",
       "      <td>Từ tuyên bố, rất khó để xác định xếp hạng sao ...</td>\n",
       "      <td>Instruction</td>\n",
       "    </tr>\n",
       "    <tr>\n",
       "      <th>1</th>\n",
       "      <td>Trả lời câu hỏi sau: Đánh giá sản phẩm này man...</td>\n",
       "      <td>Bạn là một trợ lý AI. Cung cấp đáp án chi tiết...</td>\n",
       "      <td>Giai điệu của bài đánh giá sản phẩm này chủ yế...</td>\n",
       "      <td>Instruction</td>\n",
       "    </tr>\n",
       "    <tr>\n",
       "      <th>2</th>\n",
       "      <td>Giáo viên: Trong nhiệm vụ này, các em được xem...</td>\n",
       "      <td>Bạn là một trợ lý AI làm theo hướng dẫn cực kỳ...</td>\n",
       "      <td>Một ngày nọ, một cậu bé tặng tôi một cây kem v...</td>\n",
       "      <td>Instruction</td>\n",
       "    </tr>\n",
       "    <tr>\n",
       "      <th>3</th>\n",
       "      <td>Vui lòng trả lời câu hỏi sau: Tiêu đề: Không d...</td>\n",
       "      <td>\"</td>\n",
       "      <td>Đánh giá này mô tả sản phẩm trong một ánh sáng...</td>\n",
       "      <td>Instruction</td>\n",
       "    </tr>\n",
       "    <tr>\n",
       "      <th>4</th>\n",
       "      <td>Tạo ra một bối cảnh và một giả thuyết.</td>\n",
       "      <td>Bạn là một trợ lý hữu ích, người luôn cung cấp...</td>\n",
       "      <td>Bối cảnh: Hãy tưởng tượng chúng ta đang ở sân ...</td>\n",
       "      <td>Instruction</td>\n",
       "    </tr>\n",
       "    <tr>\n",
       "      <th>...</th>\n",
       "      <td>...</td>\n",
       "      <td>...</td>\n",
       "      <td>...</td>\n",
       "      <td>...</td>\n",
       "    </tr>\n",
       "    <tr>\n",
       "      <th>68614</th>\n",
       "      <td>Với câu hỏi: Bạn đang cân nhắc có nên mua một ...</td>\n",
       "      <td>\"</td>\n",
       "      <td>tăng</td>\n",
       "      <td>Instruction</td>\n",
       "    </tr>\n",
       "    <tr>\n",
       "      <th>68615</th>\n",
       "      <td>Viết một câu về những điều sau đây:\\n\\n phòng ...</td>\n",
       "      <td>Bạn là một trợ lý AI. Bạn sẽ được giao một nhi...</td>\n",
       "      <td>Trong phòng tắm hiện đại được thiết kế trang n...</td>\n",
       "      <td>Instruction</td>\n",
       "    </tr>\n",
       "    <tr>\n",
       "      <th>68616</th>\n",
       "      <td>Sử dụng thực tế này để trả lời câu hỏi: dung n...</td>\n",
       "      <td>Bạn là một trợ lý AI. Người dùng sẽ cung cấp c...</td>\n",
       "      <td>Tôi sẽ phân tích từng tùy chọn để xác định tùy...</td>\n",
       "      <td>Instruction</td>\n",
       "    </tr>\n",
       "    <tr>\n",
       "      <th>68617</th>\n",
       "      <td>Biết rằng\" sinh sản xảy ra trong thời kỳ trưởn...</td>\n",
       "      <td>Bạn là một trợ lý hữu ích, người luôn đưa ra l...</td>\n",
       "      <td>Nếu một thứ đang sinh sản, thì nó đang ở tuổi ...</td>\n",
       "      <td>Instruction</td>\n",
       "    </tr>\n",
       "    <tr>\n",
       "      <th>68618</th>\n",
       "      <td>Bối cảnh: Theo Bộ trưởng Ngoại giao California...</td>\n",
       "      <td>Bạn là một trợ lý AI. Người dùng sẽ cung cấp c...</td>\n",
       "      <td>Đảng Cộng hòa có nhiều người đăng ký bỏ phiếu ...</td>\n",
       "      <td>Instruction</td>\n",
       "    </tr>\n",
       "  </tbody>\n",
       "</table>\n",
       "<p>68619 rows × 4 columns</p>\n",
       "</div>"
      ],
      "text/plain": [
       "                                                question  \\\n",
       "0      Câu hỏi: Xếp hạng ★ của bài đánh giá này (★ là...   \n",
       "1      Trả lời câu hỏi sau: Đánh giá sản phẩm này man...   \n",
       "2      Giáo viên: Trong nhiệm vụ này, các em được xem...   \n",
       "3      Vui lòng trả lời câu hỏi sau: Tiêu đề: Không d...   \n",
       "4                 Tạo ra một bối cảnh và một giả thuyết.   \n",
       "...                                                  ...   \n",
       "68614  Với câu hỏi: Bạn đang cân nhắc có nên mua một ...   \n",
       "68615  Viết một câu về những điều sau đây:\\n\\n phòng ...   \n",
       "68616  Sử dụng thực tế này để trả lời câu hỏi: dung n...   \n",
       "68617  Biết rằng\" sinh sản xảy ra trong thời kỳ trưởn...   \n",
       "68618  Bối cảnh: Theo Bộ trưởng Ngoại giao California...   \n",
       "\n",
       "                                                 context  \\\n",
       "0      Bạn là một trợ lý AI. Người dùng sẽ cung cấp c...   \n",
       "1      Bạn là một trợ lý AI. Cung cấp đáp án chi tiết...   \n",
       "2      Bạn là một trợ lý AI làm theo hướng dẫn cực kỳ...   \n",
       "3                                                      \"   \n",
       "4      Bạn là một trợ lý hữu ích, người luôn cung cấp...   \n",
       "...                                                  ...   \n",
       "68614                                                  \"   \n",
       "68615  Bạn là một trợ lý AI. Bạn sẽ được giao một nhi...   \n",
       "68616  Bạn là một trợ lý AI. Người dùng sẽ cung cấp c...   \n",
       "68617  Bạn là một trợ lý hữu ích, người luôn đưa ra l...   \n",
       "68618  Bạn là một trợ lý AI. Người dùng sẽ cung cấp c...   \n",
       "\n",
       "                                                  answer         type  \n",
       "0      Từ tuyên bố, rất khó để xác định xếp hạng sao ...  Instruction  \n",
       "1      Giai điệu của bài đánh giá sản phẩm này chủ yế...  Instruction  \n",
       "2      Một ngày nọ, một cậu bé tặng tôi một cây kem v...  Instruction  \n",
       "3      Đánh giá này mô tả sản phẩm trong một ánh sáng...  Instruction  \n",
       "4      Bối cảnh: Hãy tưởng tượng chúng ta đang ở sân ...  Instruction  \n",
       "...                                                  ...          ...  \n",
       "68614                                               tăng  Instruction  \n",
       "68615  Trong phòng tắm hiện đại được thiết kế trang n...  Instruction  \n",
       "68616  Tôi sẽ phân tích từng tùy chọn để xác định tùy...  Instruction  \n",
       "68617  Nếu một thứ đang sinh sản, thì nó đang ở tuổi ...  Instruction  \n",
       "68618  Đảng Cộng hòa có nhiều người đăng ký bỏ phiếu ...  Instruction  \n",
       "\n",
       "[68619 rows x 4 columns]"
      ]
     },
     "execution_count": 11,
     "metadata": {},
     "output_type": "execute_result"
    }
   ],
   "source": [
    "all_data[all_data['type'] == 'Instruction']"
   ]
  },
  {
   "cell_type": "code",
   "execution_count": 12,
   "metadata": {},
   "outputs": [],
   "source": [
    "all_data.to_csv('/home4/tuannd/llm-training/Data_Vi_QA_v1.1/all_data.csv', index=False)"
   ]
  },
  {
   "cell_type": "code",
   "execution_count": 2,
   "metadata": {},
   "outputs": [],
   "source": [
    "import pandas as pd \n",
    "df = pd.read_csv('/home4/tuannd/llm-training/Data_Vi_QA_v1.1/QA_Uni/hust_no_ans.csv')\n",
    "df.rename(columns={'gpt_answer': 'answer'}, inplace=True)\n",
    "df[['question', 'context', 'answer']].to_csv('/home4/tuannd/llm-training/Data_Vi_QA_v1.1/QA_Uni/hust_no_ans.csv', index=False)"
   ]
  },
  {
   "cell_type": "code",
   "execution_count": 3,
   "metadata": {},
   "outputs": [
    {
     "data": {
      "text/plain": [
       "2175"
      ]
     },
     "execution_count": 3,
     "metadata": {},
     "output_type": "execute_result"
    }
   ],
   "source": [
    "df = pd.read_csv('/home4/tuannd/llm-training/Data_Vi_QA_v1.1/QA_Uni/hust_no_ans.csv')\n",
    "len(df)"
   ]
  },
  {
   "cell_type": "code",
   "execution_count": 5,
   "metadata": {},
   "outputs": [],
   "source": [
    "df.dropna(inplace=True)\n",
    "df.to_csv('/home4/tuannd/llm-training/Data_Vi_QA_v1.1/QA_Uni/hust_no_ans.csv', index=False)"
   ]
  }
 ],
 "metadata": {
  "kernelspec": {
   "display_name": "llm",
   "language": "python",
   "name": "python3"
  },
  "language_info": {
   "codemirror_mode": {
    "name": "ipython",
    "version": 3
   },
   "file_extension": ".py",
   "mimetype": "text/x-python",
   "name": "python",
   "nbconvert_exporter": "python",
   "pygments_lexer": "ipython3",
   "version": "3.10.12"
  }
 },
 "nbformat": 4,
 "nbformat_minor": 2
}
